{
  "nbformat": 4,
  "nbformat_minor": 0,
  "metadata": {
    "colab": {
      "provenance": [],
      "authorship_tag": "ABX9TyPf6StJ5YR5sB1x+XR3/37O",
      "include_colab_link": true
    },
    "kernelspec": {
      "name": "python3",
      "display_name": "Python 3"
    },
    "language_info": {
      "name": "python"
    }
  },
  "cells": [
    {
      "cell_type": "markdown",
      "metadata": {
        "id": "view-in-github",
        "colab_type": "text"
      },
      "source": [
        "<a href=\"https://colab.research.google.com/github/shareefat/machine-learning-/blob/main/decision_tree.ipynb\" target=\"_parent\"><img src=\"https://colab.research.google.com/assets/colab-badge.svg\" alt=\"Open In Colab\"/></a>"
      ]
    },
    {
      "cell_type": "markdown",
      "source": [
        "**Decision Tree**:\n",
        "\n",
        "-Decision Trees are used for handling non-linear data set effectively\n",
        "\n",
        "-Decision treed can be divided into 2 types; categorical variables and continuos variable decision tree"
      ],
      "metadata": {
        "id": "aXuf4yXscGEL"
      }
    },
    {
      "cell_type": "markdown",
      "source": [
        "**TYPES OF DECISION TREE**\n",
        "\n",
        "-Categorical Variables decision tree includes categorical target variables that are divided into categories.\n",
        "\n",
        "-FOR EXAMPLE:-The Categories can be yes or no the categories mean that every stage of the decision process fall into one category, and there are no in between"
      ],
      "metadata": {
        "id": "gPv3xrVkc013"
      }
    },
    {
      "cell_type": "markdown",
      "source": [
        "**CONTINOUS VARIABLE DECISION TREE**\n",
        "\n",
        "- a continuous variable decision tree is a decision tree with a continuous target variable\n",
        "\n",
        "-for example:-the income of an individual whose income is unknown can be predicted based on available information such as their occupation,age,and other continuos variable"
      ],
      "metadata": {
        "id": "DQIoVD30dmRZ"
      }
    },
    {
      "cell_type": "code",
      "source": [],
      "metadata": {
        "id": "U5SaKU_xc0DM"
      },
      "execution_count": null,
      "outputs": []
    },
    {
      "cell_type": "code",
      "execution_count": null,
      "metadata": {
        "id": "ApJin8FrcBXD"
      },
      "outputs": [],
      "source": []
    }
  ]
}