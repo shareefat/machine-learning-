{
  "nbformat": 4,
  "nbformat_minor": 0,
  "metadata": {
    "colab": {
      "provenance": [],
      "authorship_tag": "ABX9TyOR4EqVnm6Crd+KTqSWkrdb",
      "include_colab_link": true
    },
    "kernelspec": {
      "name": "python3",
      "display_name": "Python 3"
    },
    "language_info": {
      "name": "python"
    }
  },
  "cells": [
    {
      "cell_type": "markdown",
      "metadata": {
        "id": "view-in-github",
        "colab_type": "text"
      },
      "source": [
        "<a href=\"https://colab.research.google.com/github/shareefat/machine-learning-/blob/main/KNN_.ipynb\" target=\"_parent\"><img src=\"https://colab.research.google.com/assets/colab-badge.svg\" alt=\"Open In Colab\"/></a>"
      ]
    },
    {
      "cell_type": "markdown",
      "source": [
        "**HOW KNN WORKS**\n",
        "\n",
        "-select the number of K of the neighbors\n",
        "\n",
        "-calculate the Euclidean distance of K\n",
        "\n",
        "-take the nearest neighbour as per the distance\n",
        "\n",
        "-among these k neighbour count the number of the data point in each category\n",
        "\n",
        "-assign the new data point to that category for which the number neighbour is maximum\n",
        "\n",
        "-our model is ready"
      ],
      "metadata": {
        "id": "vA9CLi7zyk0C"
      }
    },
    {
      "cell_type": "code",
      "execution_count": null,
      "metadata": {
        "id": "2omC9pkIpMjw"
      },
      "outputs": [],
      "source": []
    }
  ]
}