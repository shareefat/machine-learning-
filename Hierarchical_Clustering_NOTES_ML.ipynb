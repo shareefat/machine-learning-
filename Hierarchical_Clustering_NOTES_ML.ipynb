{
  "nbformat": 4,
  "nbformat_minor": 0,
  "metadata": {
    "colab": {
      "provenance": [],
      "authorship_tag": "ABX9TyMw0r8OGwbGQuORF1Kbjeke",
      "include_colab_link": true
    },
    "kernelspec": {
      "name": "python3",
      "display_name": "Python 3"
    },
    "language_info": {
      "name": "python"
    }
  },
  "cells": [
    {
      "cell_type": "markdown",
      "metadata": {
        "id": "view-in-github",
        "colab_type": "text"
      },
      "source": [
        "<a href=\"https://colab.research.google.com/github/shareefat/machine-learning-/blob/main/Hierarchical_Clustering_NOTES_ML.ipynb\" target=\"_parent\"><img src=\"https://colab.research.google.com/assets/colab-badge.svg\" alt=\"Open In Colab\"/></a>"
      ]
    },
    {
      "cell_type": "markdown",
      "source": [
        "**WHAT IS  HIERARCHICAL CLUSTERING**\n",
        "\n",
        "There are main two types of clustring\n",
        "\n",
        "1- Agglomerative heirarchical clustering\n",
        "\n",
        "2-Divisive Heirarchical Clustering"
      ],
      "metadata": {
        "id": "sHWNah9hwGzu"
      }
    },
    {
      "cell_type": "markdown",
      "source": [
        "**Agglomerative**\n",
        "\n",
        "-it is a Bottom Up Approach\n",
        "\n",
        "-we assign each point to an individual clustering in this technique\n",
        "\n",
        "-if there is 4 points\n",
        "\n",
        "-we assign each point to cluster and hence the 4 cluster in the begunung\n",
        "\n",
        "-then each iteration we merge the closest cluster and repeat this step until only a single cluster is left\n"
      ],
      "metadata": {
        "id": "_Ov_kRw3uyNM"
      }
    },
    {
      "cell_type": "markdown",
      "source": [
        "**Divisive Heirarchical Clustering**\n",
        "\n",
        "-it is a Top Down Approch or also know as DIANA(Dvisive Analysis)\n",
        "\n",
        "-**it is working opposite to agglomerative Clustering**\n",
        "\n",
        "-start from a single clustering and it will end with nnumber of Cluster\n",
        "\n",
        "-at each iteration we split the furture point from cluster and repeat the process until a single Cluster contain a single point"
      ],
      "metadata": {
        "id": "0dktrZZHvFYf"
      }
    },
    {
      "cell_type": "markdown",
      "source": [
        "**Create a Proximity Matrix**\n",
        "\n",
        "first we can create a proximity matrix which tell us the distance b/w each of the points"
      ],
      "metadata": {
        "id": "5nKo8BWh0QlP"
      }
    },
    {
      "cell_type": "markdown",
      "source": [
        "CLUSTERING STEP BY STEP\n",
        "(AGGLOMARATIVE CLUSTERING)\n",
        "\n",
        "step 1-first we assign all point to an individual cluster\n",
        "\n",
        "step 2-next, we look the smallest distance in the proximity matrix and merge the points which is smallest\n",
        "\n",
        "step 3-repeat this step until all the cluster turned into a single cluster"
      ],
      "metadata": {
        "id": "LTuBjNRi0pzb"
      }
    },
    {
      "cell_type": "markdown",
      "source": [
        "**LINKAGES**\n",
        "\n",
        "types of linkages:-\n",
        "\n",
        "**single**:-in single linkage hierarchical cluster the distance b/w two cluster is defined as the shortest distance b/w two cluster\n",
        "\n",
        "**complete linkage**:-in complete linkage cluster the distance b/w two cluster is difined as the longest two points\n",
        "\n",
        "**Average linkage**:-the distance b/w two cluster is defind as the average distance b//w each point in one point to other point\n",
        "\n",
        "**ward's linkage**:-this approch of calculating the similarity b/w two cluster and it is same as Average\n",
        "\n",
        "-wards method calculate the sum of the square of the distance **pi** and **pj**\n",
        "\n",
        "**sim(c1,c2)=(dist(pi,pj))2/(|c1|*|c2|)**"
      ],
      "metadata": {
        "id": "4jd7hHBT-pA0"
      }
    },
    {
      "cell_type": "markdown",
      "source": [
        "**different Linkage**\n",
        "\n",
        "**MIN** or Single Linkage   \n",
        "\n",
        "-**pros**:- this approch can seperate non elliptical shapes as long as the  gap b/w two cluster is not small\n",
        "\n",
        "\n",
        "**cons**:-if there is noise present it cannot seperate cluster properly\n",
        "\n",
        "\n",
        "**MAX** or complete Linkage\n",
        "\n",
        "**pros** :-Max will not well seperate cluster if there is noise present\n",
        "\n",
        "**cons** :-Max is baised towards globular cluster and it is tend to break large cluster\n",
        "\n",
        "**Group Average**\n",
        "\n",
        "**pros**:-this will seperate the cluster well if there is noise present\n",
        "\n",
        "**cons**:-this is baised towards globular cluster\n",
        "\n",
        "**Ward's method**\n",
        "\n",
        "**pros**:-wards also good well seperation if there is noise present in b/w clusters\n",
        "\n",
        "**cons**:-this is baised towards globular cluster"
      ],
      "metadata": {
        "id": "WI5gj3obCEA8"
      }
    },
    {
      "cell_type": "code",
      "source": [],
      "metadata": {
        "id": "LUOzwxOxHKWR"
      },
      "execution_count": null,
      "outputs": []
    }
  ]
}